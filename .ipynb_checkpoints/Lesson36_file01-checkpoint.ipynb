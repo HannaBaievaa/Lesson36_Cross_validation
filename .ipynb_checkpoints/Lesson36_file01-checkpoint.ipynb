{
 "cells": [
  {
   "cell_type": "markdown",
   "id": "ecc47e28-b122-438d-ae22-656698efba38",
   "metadata": {},
   "source": [
    "### Завдання 1"
   ]
  },
  {
   "cell_type": "markdown",
   "id": "d6810025-5691-4722-a959-492bdb1ac231",
   "metadata": {},
   "source": [
    "#Виконуємо всі необхідні імпорти бібліотек"
   ]
  },
  {
   "cell_type": "code",
   "execution_count": 1,
   "id": "ba0938eb-19d0-4dc2-b8a3-a8b4c8134bce",
   "metadata": {},
   "outputs": [],
   "source": [
    "import pandas as pd\n",
    "import numpy as np\n",
    "from sklearn.model_selection import KFold, StratifiedKFold, cross_val_score\n",
    "from sklearn.linear_model import LinearRegression"
   ]
  },
  {
   "cell_type": "code",
   "execution_count": 2,
   "id": "02dbba10-d989-4412-82cf-e40cd6dfcaef",
   "metadata": {},
   "outputs": [],
   "source": [
    "%matplotlib inline\n",
    "import matplotlib.pyplot as plt\n",
    "import sklearn\n",
    "\n",
    "from sklearn.linear_model import LinearRegression\n",
    "from sklearn.preprocessing import scale\n",
    "\n",
    "from pylab import rcParams\n",
    "rcParams['figure.figsize'] = 10,8"
   ]
  },
  {
   "cell_type": "markdown",
   "id": "4aada596-3aa9-4e7b-bb58-d683cccffa78",
   "metadata": {},
   "source": [
    "#Завантажуємо дані"
   ]
  },
  {
   "cell_type": "code",
   "execution_count": 3,
   "id": "01cb2467-35d0-4cf3-af3b-abb1e13fb998",
   "metadata": {},
   "outputs": [],
   "source": [
    "data = pd.read_csv('student_scores.csv')"
   ]
  },
  {
   "cell_type": "markdown",
   "id": "f6b6b19c-4db5-45d8-8ef8-5709b9f07b28",
   "metadata": {},
   "source": [
    "#Розділюємо дані на X та y"
   ]
  },
  {
   "cell_type": "code",
   "execution_count": 4,
   "id": "eda25f81-ede7-4089-9436-b68045ed5f30",
   "metadata": {},
   "outputs": [],
   "source": [
    "X = data.drop('Scores', axis=1)\n",
    "y = data['Scores']"
   ]
  },
  {
   "cell_type": "markdown",
   "id": "a3365514-b129-4dfe-a52a-02701c0fd6ad",
   "metadata": {},
   "source": [
    "#Створюємо лінійну регресію"
   ]
  },
  {
   "cell_type": "code",
   "execution_count": 5,
   "id": "7064c1cb-4c6c-4561-9244-6e8543924dbe",
   "metadata": {},
   "outputs": [],
   "source": [
    "regressor = LinearRegression()"
   ]
  },
  {
   "cell_type": "markdown",
   "id": "0b572c9b-6af3-48da-aba9-0fcb4bbc4838",
   "metadata": {},
   "source": [
    "#Встановлюємо кількость фолдів"
   ]
  },
  {
   "cell_type": "code",
   "execution_count": 6,
   "id": "738a8e66-9d2c-432a-8ff9-5c5a8a366abf",
   "metadata": {},
   "outputs": [],
   "source": [
    "kfold = KFold(n_splits=5, shuffle=True, random_state=42)"
   ]
  },
  {
   "cell_type": "markdown",
   "id": "81ffc67a-8ac6-43a5-a7ec-18ab760892c7",
   "metadata": {},
   "source": [
    "#Проведимо крос-валідацію"
   ]
  },
  {
   "cell_type": "code",
   "execution_count": 7,
   "id": "d9a4a425-5ce4-41f2-b6a2-dd8f8b7431d5",
   "metadata": {},
   "outputs": [],
   "source": [
    "scores = cross_val_score(regressor, X, y, cv=kfold)"
   ]
  },
  {
   "cell_type": "markdown",
   "id": "c30660aa-0d74-451a-8c43-47e250e6d821",
   "metadata": {},
   "source": [
    "#Виведемо середнє значення оцінки "
   ]
  },
  {
   "cell_type": "code",
   "execution_count": 8,
   "id": "1fbe1cb3-30bf-42d0-a1a7-931df485c1e2",
   "metadata": {},
   "outputs": [
    {
     "name": "stdout",
     "output_type": "stream",
     "text": [
      "Відхилення: 0.95\n"
     ]
    }
   ],
   "source": [
    "print(f\"Відхилення: {round(np.sqrt(scores.mean()), 2)}\")"
   ]
  },
  {
   "cell_type": "markdown",
   "id": "6ea95162-9b21-4b67-8d4f-c92a7c5696d7",
   "metadata": {},
   "source": [
    " ### Завдання 2"
   ]
  },
  {
   "cell_type": "code",
   "execution_count": 9,
   "id": "ed7d3fd4-fab2-421e-8664-d79581fe9c2c",
   "metadata": {},
   "outputs": [],
   "source": [
    "df = 'petrol_consumption.csv'\n",
    "petrol = pd.read_csv(df)"
   ]
  },
  {
   "cell_type": "code",
   "execution_count": 10,
   "id": "44c99bc3-6dfa-448d-9e6a-40aa0140f767",
   "metadata": {},
   "outputs": [],
   "source": [
    "petrol_data = petrol[['Average_income', 'Population_Driver_licence(%)']].values\n",
    "petrol_target = petrol[['Petrol_tax']].values\n",
    "\n",
    "X, y = scale(petrol_data), petrol_target"
   ]
  },
  {
   "cell_type": "code",
   "execution_count": 11,
   "id": "d1b51f97-e734-4e92-9650-f39b8dd6b8ff",
   "metadata": {},
   "outputs": [],
   "source": [
    "LinReg = LinearRegression()"
   ]
  },
  {
   "cell_type": "code",
   "execution_count": 12,
   "id": "e41b08e6-de58-4f42-98a5-251b1bb662b8",
   "metadata": {},
   "outputs": [],
   "source": [
    "kfold = KFold(n_splits=5, shuffle=True, random_state=42)"
   ]
  },
  {
   "cell_type": "code",
   "execution_count": 15,
   "id": "2fe625a1-a227-458c-ac61-c6a0f16f9774",
   "metadata": {},
   "outputs": [],
   "source": [
    "scores_2 = cross_val_score(LinReg, X, y, cv=kfold)"
   ]
  },
  {
   "cell_type": "code",
   "execution_count": 16,
   "id": "6d68cd9b-70ef-4e4b-814a-3ccd9b1c3fe3",
   "metadata": {},
   "outputs": [
    {
     "name": "stdout",
     "output_type": "stream",
     "text": [
      "Відхилення: nan\n"
     ]
    },
    {
     "name": "stderr",
     "output_type": "stream",
     "text": [
      "C:\\Users\\Hanna\\AppData\\Local\\Temp\\ipykernel_9352\\3425766404.py:1: RuntimeWarning: invalid value encountered in sqrt\n",
      "  print(f\"Відхилення: {round(np.sqrt(scores_2.mean()), 2)}\")\n"
     ]
    }
   ],
   "source": [
    "print(f\"Відхилення: {round(np.sqrt(scores_2.mean()), 2)}\")"
   ]
  }
 ],
 "metadata": {
  "kernelspec": {
   "display_name": "Python 3 (ipykernel)",
   "language": "python",
   "name": "python3"
  },
  "language_info": {
   "codemirror_mode": {
    "name": "ipython",
    "version": 3
   },
   "file_extension": ".py",
   "mimetype": "text/x-python",
   "name": "python",
   "nbconvert_exporter": "python",
   "pygments_lexer": "ipython3",
   "version": "3.10.11"
  }
 },
 "nbformat": 4,
 "nbformat_minor": 5
}
